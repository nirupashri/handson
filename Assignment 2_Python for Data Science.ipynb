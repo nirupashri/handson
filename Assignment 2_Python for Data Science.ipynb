{
 "cells": [
  {
   "cell_type": "markdown",
   "metadata": {},
   "source": [
    "# Assignment 2"
   ]
  },
  {
   "cell_type": "markdown",
   "metadata": {},
   "source": [
    "## 1. Program with two functions disp_1() and disp_2()"
   ]
  },
  {
   "cell_type": "markdown",
   "metadata": {},
   "source": [
    "### disp_1() - using loop"
   ]
  },
  {
   "cell_type": "code",
   "execution_count": 1,
   "metadata": {},
   "outputs": [
    {
     "name": "stdout",
     "output_type": "stream",
     "text": [
      "Rahul has enrollment no. 10 and he studies Maths.\n",
      "Ankit has enrollment no. 20 and he studies Computer.\n",
      "Vijay has enrollment no. 30 and he studies Science.\n"
     ]
    }
   ],
   "source": [
    "def disp_1():\n",
    "    Name = ['Rahul','Ankit','Vijay']\n",
    "    Enroll =[10,20,30] #since this is list of int, it has been changed as str inside the loop for concatenation purpose\n",
    "    Subject=['Maths','Computer','Science']\n",
    "    \n",
    "    length =len(Name) \n",
    "    for i in range(length):\n",
    "        print(Name[i]+\" has enrollment no. \"+str(Enroll[i])+\" and he studies \"+Subject[i]+\".\") \n",
    "      \n",
    "disp_1()\n",
    "        "
   ]
  },
  {
   "cell_type": "markdown",
   "metadata": {},
   "source": [
    "Logic: In this case, have used a for loop to fetch the values in the range of list. Since it just needs concatenation, have given the 3 lists with needed words, alongside denoting the index of the same. As Enroll is a list of integers, it cannot be concatenated with strings. Hence have changed it to string\n",
    "\n"
   ]
  },
  {
   "cell_type": "markdown",
   "metadata": {},
   "source": [
    "### disp_2() List Comprehension"
   ]
  },
  {
   "cell_type": "code",
   "execution_count": 2,
   "metadata": {
    "scrolled": true
   },
   "outputs": [
    {
     "name": "stdout",
     "output_type": "stream",
     "text": [
      "Rahul has enrollment no. 10 and he studies Maths.\n",
      "Ankit has enrollment no. 20 and he studies Computer.\n",
      "Vijay has enrollment no. 30 and he studies Science.\n"
     ]
    }
   ],
   "source": [
    "Name = [\"Rahul\",\"Ankit\",\"Vijay\"]\n",
    "Enroll =[10,20,30] #this is changed as string for concatenation purpose\n",
    "Subject=[\"Maths\",\"Computer\",\"Science\"]\n",
    "length =len(Name) \n",
    "\n",
    "disp_2=[Name[i]+\" has enrollment no. \"+str(Enroll[i])+\" and he studies \"+Subject[i]+\".\"  for i in range (length)]\n",
    "\n",
    "for i in disp_2:\n",
    "    print(i, end='\\n')"
   ]
  },
  {
   "cell_type": "markdown",
   "metadata": {},
   "source": [
    "Logic: Since this needs list comprehension, have used the function more concisely. Same format as above has been applied just that the loop execution happens in next line of code, with the previous line being referenced"
   ]
  },
  {
   "cell_type": "markdown",
   "metadata": {},
   "source": [
    "## 2. Recurrsive function for finding binary equivalent of a number"
   ]
  },
  {
   "cell_type": "code",
   "execution_count": 3,
   "metadata": {},
   "outputs": [
    {
     "name": "stdout",
     "output_type": "stream",
     "text": [
      "enter a number:12\n",
      "\n",
      "The binary equivalent of 12 is:\n",
      "1100"
     ]
    }
   ],
   "source": [
    "def binary(n): #function is created\n",
    "    if n//2 > 0: #inner loop where the number is divided and quotient is checked against 0\n",
    "       binary(n//2) #recurrsive function occurs\n",
    "    print(n%2,end=\"\")    #corresponding reminder gets printed\n",
    "'''Loop executes until the quotient value gets to 0'''   \n",
    "        \n",
    "num=int(input('enter a number:'))\n",
    "\n",
    "print(\"\\nThe binary equivalent of\",num,\"is:\")\n",
    "binary(num)\n"
   ]
  },
  {
   "cell_type": "markdown",
   "metadata": {},
   "source": [
    "Logic: Two parameters, quotient and reminder are important here. Mathematically to get the binary equivalent, the given number is divided by 2 to get the quotient and reminder. Again the quotient obtained gets divided, this is done until quotient is 0. Reminders of every division is placed in order for LSB to MSB to get Binary Equivalent. Hence in this function, the iteration happens till quotient gets to 0 and everytime the reminder is printed. "
   ]
  },
  {
   "cell_type": "markdown",
   "metadata": {},
   "source": [
    "## 3. Python code to find covariance of an array\n"
   ]
  },
  {
   "cell_type": "code",
   "execution_count": 4,
   "metadata": {},
   "outputs": [
    {
     "name": "stdout",
     "output_type": "stream",
     "text": [
      "given array a is: \n",
      " [ 1  8  5 10]\n",
      "given another array b is: \n",
      " [ 4 11  7  9]\n"
     ]
    }
   ],
   "source": [
    "import numpy as np\n",
    "\n",
    "'''to show how covariance is calculated, have considered two arrays for which covariance has to be calculated'''\n",
    "\n",
    "a=np.array([1,8,5,10])\n",
    "b=np.array([4,11,7,9])\n",
    "print(\"given array a is: \\n\",a)\n",
    "print(\"given another array b is: \\n\", b)\n"
   ]
  },
  {
   "cell_type": "code",
   "execution_count": 5,
   "metadata": {},
   "outputs": [
    {
     "name": "stdout",
     "output_type": "stream",
     "text": [
      "Mean for array a is: \n",
      " 6.0\n",
      "Mean for array b is: \n",
      " 7.75\n",
      "Covariance of a & b is: \n",
      " 10.333333333333334\n"
     ]
    }
   ],
   "source": [
    "'''Finding covariance between a and b'''\n",
    "'''calculating mean of both the arrays inorder to find covariance'''\n",
    "mean_a=np.mean(a)\n",
    "mean_b=np.mean(b)\n",
    "print(\"Mean for array a is: \\n\",mean_a)\n",
    "print(\"Mean for array b is: \\n\",mean_b)\n",
    "\n",
    "'''using function to calculate covariance for an array'''\n",
    "\n",
    "def cov(a,b):\n",
    "    if len(a)!= len(b):\n",
    "        return\n",
    "    sum=0\n",
    "    for i in range(0,len(a)):\n",
    "        sum +=((a[i]-mean_a)*(b[i]-mean_b))  \n",
    "    covar = sum/(len(a)-1)\n",
    "    return covar\n",
    "print(\"Covariance of a & b is: \\n\",cov(a,b))\n"
   ]
  },
  {
   "cell_type": "markdown",
   "metadata": {},
   "source": [
    "Generally when covariance is found for SVD or Linear Discremiant Analysis, it is represented as covariance matrix.\n",
    "Hence have tried to represent the calculated covariance of the array as a covariance matrix.\n",
    "For this 1d array covariance matrix will be 2*2. Diagonal elements will be the variance of a & b and the counter-diagonal elements will be the covariance between a & b.\n"
   ]
  },
  {
   "cell_type": "code",
   "execution_count": 6,
   "metadata": {},
   "outputs": [
    {
     "name": "stdout",
     "output_type": "stream",
     "text": [
      "Variance value of a in covariance matrix, cov(a,a) is: \n",
      " 15.333333333333334\n",
      "Co-variance between a and b in covariance matrix,cov(a,b) is: \n",
      " 10.333333333333334\n",
      "Variance value of b in covariance matrix, cov(b,b) is: \n",
      " 8.916666666666666\n"
     ]
    }
   ],
   "source": [
    "'''For this purpose finding the covariance of a & b in all possible combinations to form the matrix'''\n",
    "\n",
    "print(\"Variance value of a in covariance matrix, cov(a,a) is: \\n\",cov(a,a))\n",
    "print(\"Co-variance between a and b in covariance matrix,cov(a,b) is: \\n\",cov(a,b))\n",
    "print(\"Variance value of b in covariance matrix, cov(b,b) is: \\n\",cov(b,b))\n"
   ]
  },
  {
   "cell_type": "code",
   "execution_count": 7,
   "metadata": {},
   "outputs": [
    {
     "name": "stdout",
     "output_type": "stream",
     "text": [
      "Covariance matrix is: \n",
      " [[15.33333333 10.33333333]\n",
      " [10.33333333  8.91666667]]\n"
     ]
    }
   ],
   "source": [
    "'''Representing the calculated covariance values as matrix'''\n",
    "\n",
    "'''For this an empty 2*2 array is created'''\n",
    "m=np.zeros((2,2))\n",
    "\n",
    "\n",
    "'''Replacing the calculated values in the matrix m'''\n",
    "for i in range(0,2):\n",
    "    for j in range(0,2):\n",
    "        if i!=j:\n",
    "            m[i,j]=cov(a,b)\n",
    "        elif i==j==0:\n",
    "            m[i,j]=cov(a,a)\n",
    "        else:\n",
    "            m[i,j]=cov(b,b)\n",
    "print(\"Covariance matrix is: \\n\",m)\n",
    "\n"
   ]
  },
  {
   "cell_type": "code",
   "execution_count": 8,
   "metadata": {},
   "outputs": [
    {
     "name": "stdout",
     "output_type": "stream",
     "text": [
      "Covariance matrix is: \n",
      " [[15.33333333 10.33333333]\n",
      " [10.33333333  8.91666667]]\n"
     ]
    }
   ],
   "source": [
    "'''The same thing also can be done by using cov function in numpy'''\n",
    "CV=np.cov(a,b)\n",
    "print(\"Covariance matrix is: \\n\",CV)\n"
   ]
  },
  {
   "cell_type": "markdown",
   "metadata": {},
   "source": [
    "## 4. Pandas statements for creating series -Price & performing tasks"
   ]
  },
  {
   "cell_type": "markdown",
   "metadata": {},
   "source": [
    "### 4a. Declaring Pandas series Price with values given"
   ]
  },
  {
   "cell_type": "code",
   "execution_count": 9,
   "metadata": {},
   "outputs": [
    {
     "name": "stdout",
     "output_type": "stream",
     "text": [
      "The Pandas Series created is\n",
      "0    120\n",
      "1    150\n",
      "2    100\n",
      "3    130\n",
      "4    125\n",
      "dtype: int64\n"
     ]
    }
   ],
   "source": [
    "import pandas as pd\n",
    "\n",
    "'''Creating the series'''\n",
    "Price = pd.Series([120,150,100,130,125])\n",
    "print(\"The Pandas Series created is\")\n",
    "print(Price)"
   ]
  },
  {
   "cell_type": "markdown",
   "metadata": {},
   "source": [
    "### 4b. Performing the operations- Minimum, Maximum , Mean and Median"
   ]
  },
  {
   "cell_type": "code",
   "execution_count": 10,
   "metadata": {},
   "outputs": [
    {
     "name": "stdout",
     "output_type": "stream",
     "text": [
      "Minimum value in the series Price is: 150\n",
      "Maximum value in the series Price is: 100\n",
      "Mean of the series Price is: 125.0\n",
      "Median of the series Price is: 125.0\n"
     ]
    }
   ],
   "source": [
    "'''Finding Minimum in the series created'''\n",
    "print(\"Minimum value in the series Price is:\",Price.max())\n",
    "\n",
    "'''Finding Maximum in the series created'''\n",
    "print(\"Maximum value in the series Price is:\",Price.min())\n",
    "\n",
    "'''Evaluating Mean for the series created'''\n",
    "print(\"Mean of the series Price is:\",Price.mean())\n",
    "\n",
    "'''Evaluating Median for the series created'''\n",
    "print(\"Median of the series Price is:\",Price.median())"
   ]
  },
  {
   "cell_type": "markdown",
   "metadata": {},
   "source": [
    "Here, Mean function will calculate the mean ie.average of values in the series. \n",
    "Whereas, for Median the middle value after ordering the series values in ascending order will be calculated.ie. the given series will be reordered as [100,120,125,130,150]. Since this has total of 5(odd enteries), middle from both the sides which is the third value-125 is the median for this series"
   ]
  },
  {
   "cell_type": "markdown",
   "metadata": {},
   "source": [
    "## 5. Pandas statement to create DataFrame Stationary & perform following"
   ]
  },
  {
   "cell_type": "code",
   "execution_count": 11,
   "metadata": {
    "scrolled": true
   },
   "outputs": [
    {
     "data": {
      "text/html": [
       "<div>\n",
       "<style scoped>\n",
       "    .dataframe tbody tr th:only-of-type {\n",
       "        vertical-align: middle;\n",
       "    }\n",
       "\n",
       "    .dataframe tbody tr th {\n",
       "        vertical-align: top;\n",
       "    }\n",
       "\n",
       "    .dataframe thead th {\n",
       "        text-align: right;\n",
       "    }\n",
       "</style>\n",
       "<table border=\"1\" class=\"dataframe\">\n",
       "  <thead>\n",
       "    <tr style=\"text-align: right;\">\n",
       "      <th></th>\n",
       "      <th>Items</th>\n",
       "      <th>Price</th>\n",
       "      <th>Quantity</th>\n",
       "    </tr>\n",
       "  </thead>\n",
       "  <tbody>\n",
       "    <tr>\n",
       "      <th>0</th>\n",
       "      <td>Pen</td>\n",
       "      <td>20</td>\n",
       "      <td>15</td>\n",
       "    </tr>\n",
       "    <tr>\n",
       "      <th>1</th>\n",
       "      <td>Pencil</td>\n",
       "      <td>10</td>\n",
       "      <td>20</td>\n",
       "    </tr>\n",
       "    <tr>\n",
       "      <th>2</th>\n",
       "      <td>Stapler</td>\n",
       "      <td>30</td>\n",
       "      <td>10</td>\n",
       "    </tr>\n",
       "    <tr>\n",
       "      <th>3</th>\n",
       "      <td>Notebook</td>\n",
       "      <td>150</td>\n",
       "      <td>15</td>\n",
       "    </tr>\n",
       "  </tbody>\n",
       "</table>\n",
       "</div>"
      ],
      "text/plain": [
       "      Items  Price  Quantity\n",
       "0       Pen     20        15\n",
       "1    Pencil     10        20\n",
       "2   Stapler     30        10\n",
       "3  Notebook    150        15"
      ]
     },
     "execution_count": 11,
     "metadata": {},
     "output_type": "execute_result"
    }
   ],
   "source": [
    "'''creating series for the 3 columns provided in the question'''\n",
    "Items=pd.Series(['Pen','Pencil','Stapler','Notebook'])\n",
    "Price=pd.Series([20,10,30,150])\n",
    "Quantity=pd.Series([15,20,10,15])\n",
    "\n",
    "'''creating dataframe using the above created series'''\n",
    "Stationary=pd.DataFrame({\"Items\":Items,\"Price\":Price,\"Quantity\":Quantity})\n",
    "Stationary #printing dataframe created\n",
    "\n"
   ]
  },
  {
   "cell_type": "markdown",
   "metadata": {},
   "source": [
    "### 5a. Display the total items "
   ]
  },
  {
   "cell_type": "code",
   "execution_count": 14,
   "metadata": {},
   "outputs": [
    {
     "name": "stdout",
     "output_type": "stream",
     "text": [
      "Total number of items in stationary is: 4\n"
     ]
    }
   ],
   "source": [
    "'''This adds the type of items to give the total items of stationary'''\n",
    "print(\"Total number of items in stationary is:\",Stationary[\"Items\"].count())"
   ]
  },
  {
   "cell_type": "markdown",
   "metadata": {},
   "source": [
    "### 5b. Display the total quantity of all the items in Stationary"
   ]
  },
  {
   "cell_type": "code",
   "execution_count": 13,
   "metadata": {},
   "outputs": [
    {
     "name": "stdout",
     "output_type": "stream",
     "text": [
      "Total quantity of all the items in the stationary is: 60\n"
     ]
    }
   ],
   "source": [
    "'''This adds the quantity entered across each item type'''\n",
    "print(\"Total quantity of all the items in the stationary is:\",Stationary[\"Quantity\"].sum())"
   ]
  },
  {
   "cell_type": "markdown",
   "metadata": {},
   "source": [
    "### 5c. Display the average quantity of all the items in Stationary"
   ]
  },
  {
   "cell_type": "code",
   "execution_count": 18,
   "metadata": {},
   "outputs": [
    {
     "name": "stdout",
     "output_type": "stream",
     "text": [
      "Average quantity of all the items in the Stationary is: 15.0\n"
     ]
    }
   ],
   "source": [
    "'''This takes the average of quantity column in the dataframe'''\n",
    "print(\"Average quantity of all the items in the Stationary is:\",Stationary[\"Quantity\"].mean())"
   ]
  },
  {
   "cell_type": "markdown",
   "metadata": {},
   "source": [
    "## 6. Use DataFrame Stationary created above for the following"
   ]
  },
  {
   "cell_type": "markdown",
   "metadata": {},
   "source": [
    "### 6a. Display Maximum Price Value among all the items"
   ]
  },
  {
   "cell_type": "code",
   "execution_count": 19,
   "metadata": {},
   "outputs": [
    {
     "name": "stdout",
     "output_type": "stream",
     "text": [
      "The Maximum Price value among all the items is: 150\n",
      "Item Corresponding to Maximum Price Value 150 is Stapler\n"
     ]
    }
   ],
   "source": [
    "'''This displays the highest value in Price column'''\n",
    "print(\"The Maximum Price value among all the items is:\", Stationary[\"Price\"].max()) #to answer the question directly\n",
    "\n",
    "p=Stationary.max() #used this as a generic one to again show the corresponding price value and item\n",
    "print(\"Item Corresponding to Maximum Price Value\",p[\"Price\"],\"is\",p[\"Items\"])\n"
   ]
  },
  {
   "cell_type": "markdown",
   "metadata": {},
   "source": [
    "### 6b. Display Sum and Mean of Price Value"
   ]
  },
  {
   "cell_type": "code",
   "execution_count": 20,
   "metadata": {},
   "outputs": [
    {
     "name": "stdout",
     "output_type": "stream",
     "text": [
      "Total price clubbing all the items of Stationary is: 210\n",
      "Average price of the items in Stationary is: 52.5\n"
     ]
    }
   ],
   "source": [
    "'''This has to display the sum and mean of the price column'''\n",
    "print(\"Total price clubbing all the items of Stationary is:\", Stationary[\"Price\"].sum())\n",
    "print(\"Average price of the items in Stationary is:\",Stationary[\"Price\"].mean())"
   ]
  },
  {
   "cell_type": "markdown",
   "metadata": {},
   "source": [
    "### 6c. Add another column Total Price"
   ]
  },
  {
   "cell_type": "code",
   "execution_count": 21,
   "metadata": {},
   "outputs": [
    {
     "data": {
      "text/html": [
       "<div>\n",
       "<style scoped>\n",
       "    .dataframe tbody tr th:only-of-type {\n",
       "        vertical-align: middle;\n",
       "    }\n",
       "\n",
       "    .dataframe tbody tr th {\n",
       "        vertical-align: top;\n",
       "    }\n",
       "\n",
       "    .dataframe thead th {\n",
       "        text-align: right;\n",
       "    }\n",
       "</style>\n",
       "<table border=\"1\" class=\"dataframe\">\n",
       "  <thead>\n",
       "    <tr style=\"text-align: right;\">\n",
       "      <th></th>\n",
       "      <th>Items</th>\n",
       "      <th>Price</th>\n",
       "      <th>Quantity</th>\n",
       "      <th>Total Price</th>\n",
       "    </tr>\n",
       "  </thead>\n",
       "  <tbody>\n",
       "    <tr>\n",
       "      <th>0</th>\n",
       "      <td>Pen</td>\n",
       "      <td>20</td>\n",
       "      <td>15</td>\n",
       "      <td>300</td>\n",
       "    </tr>\n",
       "    <tr>\n",
       "      <th>1</th>\n",
       "      <td>Pencil</td>\n",
       "      <td>10</td>\n",
       "      <td>20</td>\n",
       "      <td>200</td>\n",
       "    </tr>\n",
       "    <tr>\n",
       "      <th>2</th>\n",
       "      <td>Stapler</td>\n",
       "      <td>30</td>\n",
       "      <td>10</td>\n",
       "      <td>300</td>\n",
       "    </tr>\n",
       "    <tr>\n",
       "      <th>3</th>\n",
       "      <td>Notebook</td>\n",
       "      <td>150</td>\n",
       "      <td>15</td>\n",
       "      <td>2250</td>\n",
       "    </tr>\n",
       "  </tbody>\n",
       "</table>\n",
       "</div>"
      ],
      "text/plain": [
       "      Items  Price  Quantity  Total Price\n",
       "0       Pen     20        15          300\n",
       "1    Pencil     10        20          200\n",
       "2   Stapler     30        10          300\n",
       "3  Notebook    150        15         2250"
      ]
     },
     "execution_count": 21,
     "metadata": {},
     "output_type": "execute_result"
    }
   ],
   "source": [
    "Stationary[\"Total Price\"]=Stationary[\"Price\"]*Stationary[\"Quantity\"]\n",
    "Stationary #printing the dataframe created"
   ]
  },
  {
   "cell_type": "markdown",
   "metadata": {},
   "source": [
    "## 7. Create DataFrame Student and perform the following"
   ]
  },
  {
   "cell_type": "code",
   "execution_count": 22,
   "metadata": {},
   "outputs": [
    {
     "data": {
      "text/html": [
       "<div>\n",
       "<style scoped>\n",
       "    .dataframe tbody tr th:only-of-type {\n",
       "        vertical-align: middle;\n",
       "    }\n",
       "\n",
       "    .dataframe tbody tr th {\n",
       "        vertical-align: top;\n",
       "    }\n",
       "\n",
       "    .dataframe thead th {\n",
       "        text-align: right;\n",
       "    }\n",
       "</style>\n",
       "<table border=\"1\" class=\"dataframe\">\n",
       "  <thead>\n",
       "    <tr style=\"text-align: right;\">\n",
       "      <th></th>\n",
       "      <th>Name</th>\n",
       "      <th>Marks</th>\n",
       "      <th>Attempts</th>\n",
       "      <th>Status(P/F)</th>\n",
       "    </tr>\n",
       "  </thead>\n",
       "  <tbody>\n",
       "    <tr>\n",
       "      <th>0</th>\n",
       "      <td>Rahul</td>\n",
       "      <td>90</td>\n",
       "      <td>3</td>\n",
       "      <td>P</td>\n",
       "    </tr>\n",
       "    <tr>\n",
       "      <th>1</th>\n",
       "      <td>Kavya</td>\n",
       "      <td>50</td>\n",
       "      <td>3</td>\n",
       "      <td>F</td>\n",
       "    </tr>\n",
       "    <tr>\n",
       "      <th>2</th>\n",
       "      <td>Vaishali</td>\n",
       "      <td>80</td>\n",
       "      <td>1</td>\n",
       "      <td>P</td>\n",
       "    </tr>\n",
       "    <tr>\n",
       "      <th>3</th>\n",
       "      <td>Akshay</td>\n",
       "      <td>46</td>\n",
       "      <td>2</td>\n",
       "      <td>F</td>\n",
       "    </tr>\n",
       "    <tr>\n",
       "      <th>4</th>\n",
       "      <td>Akash</td>\n",
       "      <td>75</td>\n",
       "      <td>2</td>\n",
       "      <td>P</td>\n",
       "    </tr>\n",
       "  </tbody>\n",
       "</table>\n",
       "</div>"
      ],
      "text/plain": [
       "       Name  Marks  Attempts Status(P/F)\n",
       "0     Rahul     90         3           P\n",
       "1     Kavya     50         3           F\n",
       "2  Vaishali     80         1           P\n",
       "3    Akshay     46         2           F\n",
       "4     Akash     75         2           P"
      ]
     },
     "execution_count": 22,
     "metadata": {},
     "output_type": "execute_result"
    }
   ],
   "source": [
    "'''Creating Pandas series as per the data given in the question'''\n",
    "Name=pd.Series([\"Rahul\",\"Kavya\",\"Vaishali\",\"Akshay\",\"Akash\"])\n",
    "Marks=pd.Series([90,50,80,46,75])\n",
    "Attempts=pd.Series([3,3,1,2,2])\n",
    "Status=pd.Series([\"P\",\"F\",\"P\",\"F\",\"P\"])\n",
    "\n",
    "Student=pd.DataFrame({\"Name\":Name,\"Marks\":Marks,\"Attempts\":Attempts,\"Status(P/F)\":Status})\n",
    "Student #printing the dataframe created"
   ]
  },
  {
   "cell_type": "markdown",
   "metadata": {},
   "source": [
    "### 7a. Sort the DataFrame in descending order of Attempts"
   ]
  },
  {
   "cell_type": "code",
   "execution_count": 23,
   "metadata": {},
   "outputs": [
    {
     "data": {
      "text/html": [
       "<div>\n",
       "<style scoped>\n",
       "    .dataframe tbody tr th:only-of-type {\n",
       "        vertical-align: middle;\n",
       "    }\n",
       "\n",
       "    .dataframe tbody tr th {\n",
       "        vertical-align: top;\n",
       "    }\n",
       "\n",
       "    .dataframe thead th {\n",
       "        text-align: right;\n",
       "    }\n",
       "</style>\n",
       "<table border=\"1\" class=\"dataframe\">\n",
       "  <thead>\n",
       "    <tr style=\"text-align: right;\">\n",
       "      <th></th>\n",
       "      <th>Name</th>\n",
       "      <th>Marks</th>\n",
       "      <th>Attempts</th>\n",
       "      <th>Status(P/F)</th>\n",
       "    </tr>\n",
       "  </thead>\n",
       "  <tbody>\n",
       "    <tr>\n",
       "      <th>0</th>\n",
       "      <td>Rahul</td>\n",
       "      <td>90</td>\n",
       "      <td>3</td>\n",
       "      <td>P</td>\n",
       "    </tr>\n",
       "    <tr>\n",
       "      <th>1</th>\n",
       "      <td>Kavya</td>\n",
       "      <td>50</td>\n",
       "      <td>3</td>\n",
       "      <td>F</td>\n",
       "    </tr>\n",
       "    <tr>\n",
       "      <th>3</th>\n",
       "      <td>Akshay</td>\n",
       "      <td>46</td>\n",
       "      <td>2</td>\n",
       "      <td>F</td>\n",
       "    </tr>\n",
       "    <tr>\n",
       "      <th>4</th>\n",
       "      <td>Akash</td>\n",
       "      <td>75</td>\n",
       "      <td>2</td>\n",
       "      <td>P</td>\n",
       "    </tr>\n",
       "    <tr>\n",
       "      <th>2</th>\n",
       "      <td>Vaishali</td>\n",
       "      <td>80</td>\n",
       "      <td>1</td>\n",
       "      <td>P</td>\n",
       "    </tr>\n",
       "  </tbody>\n",
       "</table>\n",
       "</div>"
      ],
      "text/plain": [
       "       Name  Marks  Attempts Status(P/F)\n",
       "0     Rahul     90         3           P\n",
       "1     Kavya     50         3           F\n",
       "3    Akshay     46         2           F\n",
       "4     Akash     75         2           P\n",
       "2  Vaishali     80         1           P"
      ]
     },
     "execution_count": 23,
     "metadata": {},
     "output_type": "execute_result"
    }
   ],
   "source": [
    "Sorted=Student.sort_values(by='Attempts',ascending=False)\n",
    "Sorted"
   ]
  },
  {
   "cell_type": "markdown",
   "metadata": {},
   "source": [
    "### 7b. Update Marks and Attempt of 2nd Student"
   ]
  },
  {
   "cell_type": "code",
   "execution_count": 24,
   "metadata": {
    "scrolled": false
   },
   "outputs": [
    {
     "data": {
      "text/html": [
       "<div>\n",
       "<style scoped>\n",
       "    .dataframe tbody tr th:only-of-type {\n",
       "        vertical-align: middle;\n",
       "    }\n",
       "\n",
       "    .dataframe tbody tr th {\n",
       "        vertical-align: top;\n",
       "    }\n",
       "\n",
       "    .dataframe thead th {\n",
       "        text-align: right;\n",
       "    }\n",
       "</style>\n",
       "<table border=\"1\" class=\"dataframe\">\n",
       "  <thead>\n",
       "    <tr style=\"text-align: right;\">\n",
       "      <th></th>\n",
       "      <th>Name</th>\n",
       "      <th>Marks</th>\n",
       "      <th>Attempts</th>\n",
       "      <th>Status(P/F)</th>\n",
       "    </tr>\n",
       "  </thead>\n",
       "  <tbody>\n",
       "    <tr>\n",
       "      <th>0</th>\n",
       "      <td>Rahul</td>\n",
       "      <td>90</td>\n",
       "      <td>3</td>\n",
       "      <td>P</td>\n",
       "    </tr>\n",
       "    <tr>\n",
       "      <th>1</th>\n",
       "      <td>Kavya</td>\n",
       "      <td>92</td>\n",
       "      <td>3</td>\n",
       "      <td>P</td>\n",
       "    </tr>\n",
       "    <tr>\n",
       "      <th>2</th>\n",
       "      <td>Vaishali</td>\n",
       "      <td>80</td>\n",
       "      <td>1</td>\n",
       "      <td>P</td>\n",
       "    </tr>\n",
       "    <tr>\n",
       "      <th>3</th>\n",
       "      <td>Akshay</td>\n",
       "      <td>46</td>\n",
       "      <td>2</td>\n",
       "      <td>F</td>\n",
       "    </tr>\n",
       "    <tr>\n",
       "      <th>4</th>\n",
       "      <td>Akash</td>\n",
       "      <td>75</td>\n",
       "      <td>2</td>\n",
       "      <td>P</td>\n",
       "    </tr>\n",
       "  </tbody>\n",
       "</table>\n",
       "</div>"
      ],
      "text/plain": [
       "       Name  Marks  Attempts Status(P/F)\n",
       "0     Rahul     90         3           P\n",
       "1     Kavya     92         3           P\n",
       "2  Vaishali     80         1           P\n",
       "3    Akshay     46         2           F\n",
       "4     Akash     75         2           P"
      ]
     },
     "execution_count": 24,
     "metadata": {},
     "output_type": "execute_result"
    }
   ],
   "source": [
    "'''Updating the Marks and Status of 2nd Student using iloc'''\n",
    "Student.iloc[[1,1],[1,3]]=[92,\"P\"]\n",
    "Student"
   ]
  },
  {
   "cell_type": "markdown",
   "metadata": {},
   "source": [
    "While using iloc to do multiple changes the rows and column indices corresponding to the positions in which the changes are to be done is clubbed. In this case changes have to be done at (1,1) and (1,3). Hence the row indices(1,1), column indices(1,3) are clubbed in syntax to make the changes"
   ]
  },
  {
   "cell_type": "markdown",
   "metadata": {},
   "source": [
    "###    7c. Display the rows where attempts are less than 3"
   ]
  },
  {
   "cell_type": "code",
   "execution_count": 25,
   "metadata": {},
   "outputs": [
    {
     "data": {
      "text/html": [
       "<div>\n",
       "<style scoped>\n",
       "    .dataframe tbody tr th:only-of-type {\n",
       "        vertical-align: middle;\n",
       "    }\n",
       "\n",
       "    .dataframe tbody tr th {\n",
       "        vertical-align: top;\n",
       "    }\n",
       "\n",
       "    .dataframe thead th {\n",
       "        text-align: right;\n",
       "    }\n",
       "</style>\n",
       "<table border=\"1\" class=\"dataframe\">\n",
       "  <thead>\n",
       "    <tr style=\"text-align: right;\">\n",
       "      <th></th>\n",
       "      <th>Name</th>\n",
       "      <th>Marks</th>\n",
       "      <th>Attempts</th>\n",
       "      <th>Status(P/F)</th>\n",
       "    </tr>\n",
       "  </thead>\n",
       "  <tbody>\n",
       "    <tr>\n",
       "      <th>2</th>\n",
       "      <td>Vaishali</td>\n",
       "      <td>80</td>\n",
       "      <td>1</td>\n",
       "      <td>P</td>\n",
       "    </tr>\n",
       "    <tr>\n",
       "      <th>3</th>\n",
       "      <td>Akshay</td>\n",
       "      <td>46</td>\n",
       "      <td>2</td>\n",
       "      <td>F</td>\n",
       "    </tr>\n",
       "    <tr>\n",
       "      <th>4</th>\n",
       "      <td>Akash</td>\n",
       "      <td>75</td>\n",
       "      <td>2</td>\n",
       "      <td>P</td>\n",
       "    </tr>\n",
       "  </tbody>\n",
       "</table>\n",
       "</div>"
      ],
      "text/plain": [
       "       Name  Marks  Attempts Status(P/F)\n",
       "2  Vaishali     80         1           P\n",
       "3    Akshay     46         2           F\n",
       "4     Akash     75         2           P"
      ]
     },
     "execution_count": 25,
     "metadata": {},
     "output_type": "execute_result"
    }
   ],
   "source": [
    "'''Using loc function to display the rows which has less than 3 attempts'''\n",
    "Student.loc[(Student['Attempts']<3)]"
   ]
  },
  {
   "cell_type": "markdown",
   "metadata": {},
   "source": [
    "### 7d. Take mean of rows by groupby attempts"
   ]
  },
  {
   "cell_type": "code",
   "execution_count": 26,
   "metadata": {},
   "outputs": [
    {
     "data": {
      "text/html": [
       "<div>\n",
       "<style scoped>\n",
       "    .dataframe tbody tr th:only-of-type {\n",
       "        vertical-align: middle;\n",
       "    }\n",
       "\n",
       "    .dataframe tbody tr th {\n",
       "        vertical-align: top;\n",
       "    }\n",
       "\n",
       "    .dataframe thead th {\n",
       "        text-align: right;\n",
       "    }\n",
       "</style>\n",
       "<table border=\"1\" class=\"dataframe\">\n",
       "  <thead>\n",
       "    <tr style=\"text-align: right;\">\n",
       "      <th></th>\n",
       "      <th>Marks</th>\n",
       "    </tr>\n",
       "    <tr>\n",
       "      <th>Attempts</th>\n",
       "      <th></th>\n",
       "    </tr>\n",
       "  </thead>\n",
       "  <tbody>\n",
       "    <tr>\n",
       "      <th>1</th>\n",
       "      <td>80.0</td>\n",
       "    </tr>\n",
       "    <tr>\n",
       "      <th>2</th>\n",
       "      <td>60.5</td>\n",
       "    </tr>\n",
       "    <tr>\n",
       "      <th>3</th>\n",
       "      <td>91.0</td>\n",
       "    </tr>\n",
       "  </tbody>\n",
       "</table>\n",
       "</div>"
      ],
      "text/plain": [
       "          Marks\n",
       "Attempts       \n",
       "1          80.0\n",
       "2          60.5\n",
       "3          91.0"
      ]
     },
     "execution_count": 26,
     "metadata": {},
     "output_type": "execute_result"
    }
   ],
   "source": [
    "Student.groupby(['Attempts']).mean()"
   ]
  },
  {
   "cell_type": "markdown",
   "metadata": {},
   "source": [
    "## 8. Plotting graphs for the dataframe above"
   ]
  },
  {
   "cell_type": "markdown",
   "metadata": {},
   "source": [
    "### 8a. Plot bar graph for Attempts and Marks"
   ]
  },
  {
   "cell_type": "code",
   "execution_count": 27,
   "metadata": {},
   "outputs": [
    {
     "data": {
      "image/png": "[encoded data removed]",
      "text/plain": [
       "<Figure size 432x288 with 1 Axes>"
      ]
     },
     "metadata": {
      "needs_background": "light"
     },
     "output_type": "display_data"
    }
   ],
   "source": [
    "import matplotlib.pyplot as plt\n",
    "\n",
    "'''Since the data is as Pandas DataFrame, x and y has be given referring to the dataframe'''\n",
    "\n",
    "plt.bar(Student['Attempts'],Student['Marks'],color='c')\n",
    "\n",
    "plt.title(\"Attempt vs.Marks\")\n",
    "plt.xlabel(\"Attempt\")\n",
    "plt.ylabel(\"Marks\")\n",
    "\n",
    "plt.show()"
   ]
  },
  {
   "cell_type": "markdown",
   "metadata": {},
   "source": [
    "Since the graph is required to be plot for attempts vs. marks, the function has considered 3 attempt values (3,2,1) and associated the marks with it by using the mean. This is can considered as the graphical representation of group the marks by attempts(groupby)."
   ]
  },
  {
   "cell_type": "markdown",
   "metadata": {},
   "source": [
    "### 8b. Plot a pie chart to represent Marks and label each student name"
   ]
  },
  {
   "cell_type": "code",
   "execution_count": 192,
   "metadata": {},
   "outputs": [
    {
     "data": {
      "image/png": "[encoded data removed]",
      "text/plain": [
       "<Figure size 432x288 with 1 Axes>"
      ]
     },
     "metadata": {},
     "output_type": "display_data"
    }
   ],
   "source": [
    "graph_colors=[\"g\",\"y\",\"r\",\"m\",\"c\"]\n",
    "plt.pie(Student[\"Marks\"],labels=Student[\"Name\"],startangle=90,autopct='%1.1f%%',colors=graph_colors, radius=1.2)\n",
    "'''While considering the marks for students, the graph has considered the updated marks table as per 7b. '''\n",
    "plt.show()\n"
   ]
  },
  {
   "cell_type": "markdown",
   "metadata": {},
   "source": [
    "## 9. Plot a pie chart with state names and population in crores"
   ]
  },
  {
   "cell_type": "code",
   "execution_count": 28,
   "metadata": {},
   "outputs": [
    {
     "data": {
      "image/png": "[encoded data removed]",
      "text/plain": [
       "<Figure size 432x288 with 1 Axes>"
      ]
     },
     "metadata": {},
     "output_type": "display_data"
    }
   ],
   "source": [
    "import numpy as np\n",
    "'''Defining the population for size of the pie'''\n",
    "population=np.array([20.42,1.01,6.79,6.89,11.42])\n",
    "'''Defining labels for the pie chart as state names'''\n",
    "Graph_Label=[\"Utter Pradesh\",\"Uttrakhand\",\"TamilNadu\", \"Rajastan\",\"Maharashtra\"]\n",
    "Graph_color=[\"c\",\"b\",\"m\",\"r\",\"g\"]\n",
    "plt.pie(population,labels=Graph_Label, startangle=90,autopct='%1.1f%%',colors=Graph_color,radius=1.4)\n",
    "plt.show()\n"
   ]
  },
  {
   "cell_type": "markdown",
   "metadata": {},
   "source": [
    "## 10. Generating subplots in matplotlib, using numpy.random"
   ]
  },
  {
   "cell_type": "code",
   "execution_count": 30,
   "metadata": {},
   "outputs": [
    {
     "name": "stdout",
     "output_type": "stream",
     "text": [
      "the created data sample x:\n"
     ]
    },
    {
     "data": {
      "text/plain": [
       "array([0.37454012, 0.95071431, 0.73199394, 0.59865848, 0.15601864,\n",
       "       0.15599452, 0.05808361, 0.86617615, 0.60111501, 0.70807258,\n",
       "       0.02058449, 0.96990985, 0.83244264, 0.21233911, 0.18182497,\n",
       "       0.18340451, 0.30424224, 0.52475643, 0.43194502, 0.29122914,\n",
       "       0.61185289, 0.13949386, 0.29214465, 0.36636184, 0.45606998])"
      ]
     },
     "execution_count": 30,
     "metadata": {},
     "output_type": "execute_result"
    }
   ],
   "source": [
    "'''Creating set of random data sample X using numpy.random'''\n",
    "np.random.seed(42) #using this to have the same set of random numbers \n",
    "x=np.random.random((25,))#have used random.random to generate 25 random numbers between 0 to 1\n",
    "print(\"the created data sample x:\")\n",
    "x"
   ]
  },
  {
   "cell_type": "markdown",
   "metadata": {},
   "source": [
    "For creating the graphs, we take exponential of this random sample x as y value\n"
   ]
  },
  {
   "cell_type": "markdown",
   "metadata": {},
   "source": [
    "### 10a,b,c,d. Plotting subplots-Horizontal & Vertical bar, Scatter plot and histogram"
   ]
  },
  {
   "cell_type": "code",
   "execution_count": 31,
   "metadata": {},
   "outputs": [
    {
     "data": {
      "image/png": "[encoded data removed]",
      "text/plain": [
       "<Figure size 720x720 with 4 Axes>"
      ]
     },
     "metadata": {
      "needs_background": "light"
     },
     "output_type": "display_data"
    }
   ],
   "source": [
    "\n",
    "fig, ((ax1, ax2), (ax3, ax4)) = plt.subplots(nrows=2, \n",
    "                                             ncols=2, \n",
    "                                             figsize=(10, 10))\n",
    "\n",
    "ax1.bar(x,np.exp(x), color='c',width=0.02) #vertical bar\n",
    "ax1.set(title=\"Vertical Bar Chart\", xlabel=\"x-axis\", ylabel=\"y-axis\")\n",
    "\n",
    "ax2.barh(x,np.exp(x),color='g',height=0.02)#horizontal bar\n",
    "ax2.set(title=\"Horizontal Bar Chart\", xlabel=\"x-axis\", ylabel=\"y-axis\")\n",
    "\n",
    "ax3.scatter(x,np.exp(x),color='m',s=12)#scatter plot\n",
    "ax3.set(title=\"Scatter Plot\", xlabel=\"x-axis\", ylabel=\"y-axis\")\n",
    "\n",
    "ax4.hist(x,color='y')#histogram\n",
    "ax4.set(title=\"Histogram\", xlabel=\"x-axis\", ylabel=\"Frequency\")\n",
    "\n",
    "plt.show()"
   ]
  },
  {
   "cell_type": "markdown",
   "metadata": {},
   "source": [
    "End of Assignment"
   ]
  }
 ],
 "metadata": {
  "kernelspec": {
   "display_name": "Python 3",
   "language": "python",
   "name": "python3"
  },
  "language_info": {
   "codemirror_mode": {
    "name": "ipython",
    "version": 3
   },
   "file_extension": ".py",
   "mimetype": "text/x-python",
   "name": "python",
   "nbconvert_exporter": "python",
   "pygments_lexer": "ipython3",
   "version": "3.8.5"
  }
 },
 "nbformat": 4,
 "nbformat_minor": 4
}
